{
 "cells": [
  {
   "cell_type": "markdown",
   "metadata": {},
   "source": [
    "Here we test random subset of genes out of full size Aging List. We could take all genes in mouse genome database although, but decided to limit to the AgingList for a reason, that the list is already a quater of all known genes (mostly protein-coding), and also this list by large is irreproducible, meaning quite random by nature. So, to our opinion, this is more relevant to our comparison with really aging lists, each of them is better than random. (This is what we will try to prove with these simulations).\n",
    "\n",
    "The script begins with the import of the nesessary libraries and loading the Aging List file"
   ]
  },
  {
   "cell_type": "code",
   "execution_count": 1,
   "metadata": {},
   "outputs": [
    {
     "name": "stdout",
     "output_type": "stream",
     "text": [
      "names 5443\n",
      "freqs 5443\n",
      "Max freqs 12\n"
     ]
    }
   ],
   "source": [
    "import matplotlib.pyplot as plt, random\n",
    "\n",
    "\"input file with precalculated signature gene list\"\n",
    "mdir=\"/Users/Art/Drive/PhD/Experiments/Aging Signature/000_FINAL/00_sourceFiles/\"\n",
    "\n",
    "f_in=open(mdir+ \"01_Aging_List_REAN.txt\",\"r\")\n",
    "lines=f_in.readlines()\n",
    "f_in.close()\n",
    "names, freqs=[],[]\n",
    "for line in lines[1:]:\n",
    "    items=line.rstrip().split(\"\\t\")\n",
    "    names.append(items[0])\n",
    "    freqs.append(int(items[1]))\n",
    "print(\"names\", len(names))\n",
    "print(\"freqs\", len(freqs))\n",
    "print(\"Max freqs\", max(freqs))"
   ]
  },
  {
   "cell_type": "markdown",
   "metadata": {},
   "source": [
    "We can check frequency group sizes to determine where is our Aging Signature. If you remember it should be around top 5% of all genes."
   ]
  },
  {
   "cell_type": "code",
   "execution_count": 2,
   "metadata": {},
   "outputs": [
    {
     "name": "stdout",
     "output_type": "stream",
     "text": [
      "ID\tSetSize\t%\n",
      "1\t5443\t100.0\n",
      "2\t1132\t20.797\n",
      "3\t434\t7.974\n",
      "4\t222\t4.079\n",
      "5\t122\t2.241\n",
      "6\t60\t1.102\n",
      "7\t34\t0.625\n",
      "8\t23\t0.423\n",
      "9\t8\t0.147\n",
      "10\t5\t0.092\n",
      "11\t3\t0.055\n"
     ]
    }
   ],
   "source": [
    "mymax=10\n",
    "print(\"ID\\tSetSize\\t%\")\n",
    "for i in range(mymax+1):\n",
    "    setsize=len([x for x in freqs if x>i])\n",
    "    print(i+1, setsize, round(setsize*100/len(freqs),3), sep=\"\\t\")"
   ]
  },
  {
   "cell_type": "markdown",
   "metadata": {},
   "source": [
    "Threshold for the AgingSignature can be set on either >2 or >3, which is a bit more or a bit less than 5%. \n",
    "\n",
    "For simulation we need only citation frequencies of genes, no gene names.\n",
    "For random subset we define it between 100 and 500, approximately the size range for the most of the gene sets.\n",
    "The maximally scoring subset is the subset of genes with citation scores above 1 (note that we give add all frequencis if they are above 1, and penalise score if 1. Let's start with it and find the enrichment score and the Rank score"
   ]
  },
  {
   "cell_type": "code",
   "execution_count": 3,
   "metadata": {},
   "outputs": [
    {
     "name": "stdout",
     "output_type": "stream",
     "text": [
      "1132\n",
      "Rank Score 3176\n"
     ]
    }
   ],
   "source": [
    "max_set=[x for x in freqs if x>1]\n",
    "print(len(max_set))\n",
    "#the Rank score is simply a sum of all scores\n",
    "print(\"Rank Score\", sum(max_set))\n"
   ]
  },
  {
   "cell_type": "markdown",
   "metadata": {},
   "source": [
    "we can also check the Rank Score for AgingSignature only"
   ]
  },
  {
   "cell_type": "code",
   "execution_count": 4,
   "metadata": {},
   "outputs": [
    {
     "name": "stdout",
     "output_type": "stream",
     "text": [
      "434\n",
      "Rank Score 1780\n"
     ]
    }
   ],
   "source": [
    "age_set=[x for x in freqs if x>2]\n",
    "print(len(age_set))\n",
    "#the Rank score is simply a sum of all scores\n",
    "print(\"Rank Score\", sum(age_set))"
   ]
  },
  {
   "cell_type": "markdown",
   "metadata": {},
   "source": [
    "We can also calculate Enrichment Score. For this, we need to know total set AgingList size, size of the AgingSignature (at which we determine an enrichment score). Next for any set we have to know its own size and a size of gene list which overlaps with the Aging List"
   ]
  },
  {
   "cell_type": "code",
   "execution_count": 5,
   "metadata": {},
   "outputs": [
    {
     "name": "stdout",
     "output_type": "stream",
     "text": [
      "Expected, Observed 24 313\n",
      "Enrichment 288.0428072753996\n"
     ]
    }
   ],
   "source": [
    "AL_size=len(freqs) #aging list size\n",
    "AS_size=len(age_set) #Aging signature size, already calculated\n",
    "mylist_size=313 #just decided\n",
    "my_list_in_AS=313 #all genes are in AS, in other words I check the AS list for enrichment\n",
    "\n",
    "expected=mylist_size*AS_size/AL_size\n",
    "observed=my_list_in_AS\n",
    "\n",
    "enrichment=observed-expected\n",
    "print(\"Expected, Observed\", int(expected), observed)\n",
    "print(\"Enrichment\", enrichment)\n"
   ]
  },
  {
   "cell_type": "markdown",
   "metadata": {},
   "source": [
    "We can also calculate significance by Fisher exact test. Note we do not discuss applicability of the Fisher exact test for enrichment score. There is an ongoing discussion on this issue and serious disagreements in opinions. It is considered as acceptable option, however. \n",
    "Fo this test we need 4 values: number of genes in Aging list above and below selected threshold, and the same two values for any other set."
   ]
  },
  {
   "cell_type": "code",
   "execution_count": 6,
   "metadata": {},
   "outputs": [
    {
     "name": "stdout",
     "output_type": "stream",
     "text": [
      "Fisher exact 2.625314434018766 0.0009939356897784748\n",
      "Significant enrichment\n"
     ]
    }
   ],
   "source": [
    "import scipy.stats as ss\n",
    "\n",
    "my_list_size=100\n",
    "#define size of the list overlapping with AS\n",
    "my_list_in_AS=10\n",
    "\n",
    "stats,p_val=ss.fisher_exact([[AS_size, AL_size-AS_size],\n",
    "                         [my_list_in_AS, mylist_size-my_list_in_AS]])\n",
    "print(\"Fisher exact\", stats, p_val)\n",
    "if p_val<0.05:\n",
    "    print(\"Significant enrichment\")\n",
    "else:\n",
    "    print(\"Not significant\")"
   ]
  },
  {
   "cell_type": "markdown",
   "metadata": {},
   "source": [
    "Now we can run a random simulation to check the averages for both scores we have used.\n",
    "Since most of the genes in the AgingList are by large irreproducible, it will be a good source for random selection."
   ]
  },
  {
   "cell_type": "code",
   "execution_count": 16,
   "metadata": {},
   "outputs": [
    {
     "name": "stdout",
     "output_type": "stream",
     "text": [
      "All Rank Scores -216 -59\n"
     ]
    }
   ],
   "source": [
    "\"make random subset i times\"\n",
    "allscores=[]\n",
    "for i in range(100):\n",
    "    #make variavle length of the set size, as we have it in real data\n",
    "    mylen=random.choice(range(200,400))\n",
    "    my_selection=[]\n",
    "    while len(my_selection)<mylen:\n",
    "        #it is not ideal selection, which technically allows the same item twice, yet representative\n",
    "        my_selection.append(random.choice(freqs))\n",
    "    rank_score=0\n",
    "    for value in my_selection:\n",
    "        if value>1:\n",
    "            rank_score+=value\n",
    "        else:\n",
    "            rank_score -= value\n",
    "    allscores.append(rank_score)\n",
    "print(\"All Rank Scores\", min(allscores), max(allscores))"
   ]
  },
  {
   "cell_type": "markdown",
   "metadata": {},
   "source": [
    "We can also plot histogram of all scores"
   ]
  },
  {
   "cell_type": "code",
   "execution_count": 17,
   "metadata": {},
   "outputs": [
    {
     "data": {
      "text/plain": [
       "Text(0.5, 0, 'Rank_scores')"
      ]
     },
     "execution_count": 17,
     "metadata": {},
     "output_type": "execute_result"
    },
    {
     "data": {
      "image/png": "[encoded data removed]",
      "text/plain": [
       "<Figure size 432x288 with 1 Axes>"
      ]
     },
     "metadata": {
      "needs_background": "light"
     },
     "output_type": "display_data"
    }
   ],
   "source": [
    "plt.hist(allscores)\n",
    "plt.xlabel(\"Rank_scores\")"
   ]
  },
  {
   "cell_type": "markdown",
   "metadata": {},
   "source": [
    "You will likely see that Rank scores of random subsets are barely close to zero value, but all below it. It also means that our real sets of data are much better than random.\n",
    "\n",
    "Next, we do similar procedure with Enrichment scores."
   ]
  },
  {
   "cell_type": "code",
   "execution_count": 22,
   "metadata": {},
   "outputs": [
    {
     "data": {
      "text/plain": [
       "Text(0.5, 0, 'Enrich_scores')"
      ]
     },
     "execution_count": 22,
     "metadata": {},
     "output_type": "execute_result"
    },
    {
     "data": {
      "image/png": "[encoded data removed]",
      "text/plain": [
       "<Figure size 432x288 with 1 Axes>"
      ]
     },
     "metadata": {
      "needs_background": "light"
     },
     "output_type": "display_data"
    }
   ],
   "source": [
    "\"make random subset i times\"\n",
    "top5=len([x for x in freqs if x>2]) #adjust if nesessary\n",
    "enscores=[]\n",
    "for i in range(100):\n",
    "    #make variavle length of the set size, as we have it in real data\n",
    "    mylen=random.choice(range(200,400))\n",
    "    my_selection=[]\n",
    "    while len(my_selection)<mylen:\n",
    "        #it is not ideal selection, which technically allows the same item twice, yet representative\n",
    "        my_selection.append(random.choice(freqs))\n",
    "\n",
    "    \"calculate enrichment score\"\n",
    "  #  print(\"i, observed, expected, EnScore, RankScore\")\n",
    "    expect=len(my_selection)*top5/len(freqs)\n",
    "    observed=len([x for x in my_selection if x>2]) #threshold should be the same as for top5\n",
    "    \n",
    "    en_score=(observed-expect)*100/len(my_selection)\n",
    "    enscores.append(en_score)\n",
    " #   print(i, mylen, expect, observed, en_score,rank_score, sep=\"\\t\")\n",
    "plt.hist(enscores)\n",
    "plt.xlabel(\"Enrich_scores\")\n",
    "#plt.show()"
   ]
  },
  {
   "cell_type": "markdown",
   "metadata": {},
   "source": [
    "You will likely see that Enrichment scores peaked around zero value, as expected for the enrichment at random. Note that both scores used here are more a suggestion, rather than a final best measure of the scores. We do not pretend to the final solution. Everybody is welcome for further improvement."
   ]
  },
  {
   "cell_type": "code",
   "execution_count": null,
   "metadata": {},
   "outputs": [],
   "source": []
  }
 ],
 "metadata": {
  "kernelspec": {
   "display_name": "Python 3",
   "language": "python",
   "name": "python3"
  },
  "language_info": {
   "codemirror_mode": {
    "name": "ipython",
    "version": 3
   },
   "file_extension": ".py",
   "mimetype": "text/x-python",
   "name": "python",
   "nbconvert_exporter": "python",
   "pygments_lexer": "ipython3",
   "version": "3.7.4"
  }
 },
 "nbformat": 4,
 "nbformat_minor": 2
}
