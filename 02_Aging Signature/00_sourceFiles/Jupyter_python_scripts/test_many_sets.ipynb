{
 "cells": [
  {
   "cell_type": "markdown",
   "metadata": {},
   "source": [
    "Here we will compare many sets loaded from the same location and make compare them to the signature file. It will be mostly pinplots for multiple sets (test_your_set.py) and simulations for comparison with real sets (test_your_simulations.py). "
   ]
  },
  {
   "cell_type": "markdown",
   "metadata": {},
   "source": [
    "\"\"\"\n",
    "Part 1. Compare multiple sets\n",
    "\n",
    "As usual, import nesessary packages first\n",
    "\"\"\""
   ]
  },
  {
   "cell_type": "code",
   "execution_count": 1,
   "metadata": {},
   "outputs": [],
   "source": [
    "import matplotlib.pyplot as plt, scipy.stats as ss, numpy as np"
   ]
  },
  {
   "cell_type": "markdown",
   "metadata": {},
   "source": [
    "Load Aging List from file \n",
    "modify mdir line and f_in line according to your file name and location"
   ]
  },
  {
   "cell_type": "code",
   "execution_count": 2,
   "metadata": {},
   "outputs": [],
   "source": [
    "\"input file with precalculated signature gene list\"\n",
    "mdir=\"/Users/Art/Drive/PhD/Experiments/Aging Signature/000_FINAL/00_sourceFiles/\""
   ]
  },
  {
   "cell_type": "markdown",
   "metadata": {},
   "source": [
    "use line below if you load META list"
   ]
  },
  {
   "cell_type": "code",
   "execution_count": 5,
   "metadata": {},
   "outputs": [],
   "source": [
    "f_in=open(mdir+ \"Aging_List_META.txt\",\"r\")"
   ]
  },
  {
   "cell_type": "code",
   "execution_count": null,
   "metadata": {},
   "outputs": [],
   "source": [
    "or use the line below for the REANalysed list"
   ]
  },
  {
   "cell_type": "code",
   "execution_count": 3,
   "metadata": {},
   "outputs": [],
   "source": [
    "f_in=open(mdir+ \"01_Aging_List_REAN.txt\",\"r\")"
   ]
  },
  {
   "cell_type": "code",
   "execution_count": 4,
   "metadata": {},
   "outputs": [],
   "source": [
    "lines=f_in.readlines()\n",
    "f_in.close()"
   ]
  },
  {
   "cell_type": "markdown",
   "metadata": {},
   "source": [
    "Lines contain all data from the file, extract gene names (names) and their citation frequencies (freqs), then sort from high to low. Logically, maximal value for freqs will be the first item from the list, therefore mymax=sort[0][0]"
   ]
  },
  {
   "cell_type": "code",
   "execution_count": 5,
   "metadata": {},
   "outputs": [
    {
     "name": "stdout",
     "output_type": "stream",
     "text": [
      "names 5443\n",
      "freqs 5443\n",
      "[(12, 'Selp'), (11, 'Nupr1'), (11, 'Mt1'), (10, 'Plscr2'), (10, 'Clec1a'), (9, 'Itgb3'), (9, 'Gstm2'), (9, 'Enpp5'), (8, 'Zg16'), (8, 'Vwf')] ...\n",
      "mymax 12\n"
     ]
    }
   ],
   "source": [
    "names, freqs=[],[]\n",
    "for line in lines[1:]:\n",
    "    items=line.rstrip().split(\"\\t\")\n",
    "    names.append(items[0])\n",
    "    freqs.append(int(items[1]))\n",
    "print(\"names\", len(names))\n",
    "print(\"freqs\", len(freqs))\n",
    "sort=sorted(zip(freqs,names), reverse=True)\n",
    "print(sort[:10],\"...\")\n",
    "mymax=sort[0][0]\n",
    "print(\"mymax\",mymax)"
   ]
  },
  {
   "cell_type": "markdown",
   "metadata": {},
   "source": [
    "Extract list of names and citation scores"
   ]
  },
  {
   "cell_type": "code",
   "execution_count": 6,
   "metadata": {},
   "outputs": [
    {
     "name": "stdout",
     "output_type": "stream",
     "text": [
      "GeneScore 5443 [12, 11, 11, 10, 10, 9, 9, 9, 8, 8, 8, 8, 8, 8, 8, 8, 8, 8, 8, 8] ...\n",
      "Genes 5443 ['Selp', 'Nupr1', 'Mt1', 'Plscr2', 'Clec1a']\n",
      "12\n"
     ]
    }
   ],
   "source": [
    "\"Split sort list on gene names and gene scores\"\n",
    "GeneScore,Genes=[item[0] for item in sort],[item[1] for item in sort]\n",
    "\n",
    "print(\"GeneScore\", len(GeneScore), GeneScore[:20], \"...\") #a.k.a. rank score\n",
    "print(\"Genes\", len(Genes), Genes[:5])\n",
    "print(max(GeneScore)) #should be the same as mymax"
   ]
  },
  {
   "cell_type": "markdown",
   "metadata": {},
   "source": [
    "Now we have to find the control points for the Enrichment Score calculation and for the graphic representation. These are the cumulative points of groups of genes divided by GeneScore value. "
   ]
  },
  {
   "cell_type": "code",
   "execution_count": 7,
   "metadata": {},
   "outputs": [
    {
     "name": "stdout",
     "output_type": "stream",
     "text": [
      "make control points for DGSE plot\n",
      "(12, 'Selp')\n",
      "(11, 'Mt1')\n",
      "(10, 'Clec1a')\n",
      "(9, 'Enpp5')\n",
      "(8, 'Alcam')\n",
      "(7, 'Abca4')\n",
      "(6, 'Adgrg2')\n",
      "(5, 'Abat')\n",
      "(4, '')\n",
      "(3, 'A530040E14Rik')\n",
      "(2, '4930438A08Rik')\n",
      "Control points [1, 3, 5, 8, 23, 34, 60, 122, 222, 434, 1132, 5443]\n",
      "Control point 7 122\n"
     ]
    }
   ],
   "source": [
    "print(\"make control points for DGSE plot\")\n",
    "control_points=[]\n",
    "for i in range(0,len(GeneScore)-1):\n",
    "    if GeneScore[i]!=GeneScore[i+1]:\n",
    "        control_points.append(i+1)\n",
    "        print(sort[i])\n",
    "control_points.append(len(GeneScore)) #add last control point\n",
    "print(\"Control points\", control_points)\n",
    "print(\"Control point 7\", control_points[7])"
   ]
  },
  {
   "cell_type": "markdown",
   "metadata": {},
   "source": [
    "There can be multiple ways how you count those control points. Here is another one (which you can use as alternative to above or skip)"
   ]
  },
  {
   "cell_type": "code",
   "execution_count": 8,
   "metadata": {},
   "outputs": [
    {
     "name": "stdout",
     "output_type": "stream",
     "text": [
      "Gene groups by GeneScore value [1, 2, 2, 3, 15, 11, 26, 62, 100, 212, 698, 4311]\n",
      "Cumulative control points [1, 3, 5, 8, 23, 34, 60, 122, 222, 434, 1132, 5443]\n"
     ]
    }
   ],
   "source": [
    "points=[]\n",
    "for i in range(1, mymax+1):\n",
    "    points.append(GeneScore.count(i))\n",
    "print(\"Gene groups by GeneScore value\", points[::-1])\n",
    "control_points=[]\n",
    "for i in range(1,len(points)+1):\n",
    "    control_points.append(sum(points[::-1][0:i]))\n",
    "print(\"Cumulative control points\", control_points)\n",
    "    "
   ]
  },
  {
   "cell_type": "markdown",
   "metadata": {},
   "source": [
    "Now we load multiple files with aging gene lists for further tests"
   ]
  },
  {
   "cell_type": "code",
   "execution_count": 9,
   "metadata": {},
   "outputs": [
    {
     "name": "stdout",
     "output_type": "stream",
     "text": [
      "['Bersenev', 'Chambers', 'Flach', 'Grover', 'Kirshner', 'Kowalczyk', 'Lazare', 'Mann', 'Maryanovich', 'Norddahl', 'Sun', 'Wahlestedt']\n"
     ]
    }
   ],
   "source": [
    "mdir=\"/Users/Art/Drive/PhD/Experiments/Aging Signature/000_FINAL/00_sourceFiles/rean/\"\n",
    "\"make shortlists from all signature files\"\n",
    "files=[\"Bersenev_GSE39553n_DE_YOn.csv\",\"Chambers_GSE6503_YOn.csv\",\n",
    "    \"Flach_GSE48893_YOn.csv\",\"Grover_GSE70657_DE_OY.csv\",\n",
    "    \"Kirshner_GSE87631_DE_OY.csv\",\"Kowalczyk_GSE59114_DE_OY.csv\",\n",
    "    \"Lazare_DE_YO.csv\",\"Mann_GSE1004426_DE_OY.csv\",\n",
    "      \"Maryanovich_GSE109546_DE_YO.csv\",\"Norddahl_GSE27686_DE_YOn.csv\",\n",
    "      \"Sun_GSE47817_DE_YO.csv\",\"Wahlestedt_GSE44923_DE_YOn.csv\"]\n",
    "setnames=[]\n",
    "for f in files:\n",
    "    items=f.split(\"_\") #(or you can split by \".\")\n",
    "    setnames.append(items[0])\n",
    "print(setnames)"
   ]
  },
  {
   "cell_type": "markdown",
   "metadata": {},
   "source": [
    "The block below goes in one loop, therefore cannot be split"
   ]
  },
  {
   "cell_type": "code",
   "execution_count": 10,
   "metadata": {},
   "outputs": [
    {
     "name": "stdout",
     "output_type": "stream",
     "text": [
      "file\tobserved\texpected\tdelta\tenrichment%\tfisher\tchisquare\n",
      "Bersenev_GSE39553n_DE_YOn.csv 90 7 82 25.031316286138992 4.0514571839147773e-22\n",
      "Chambers_GSE6503_YOn.csv 65 46 18 0.9154612815030281 0.0828366101137419\n",
      "Flach_GSE48893_YOn.csv 24 4 19 11.018257521699015 0.00010103852185873956\n",
      "Grover_GSE70657_DE_OY.csv 28 2 25 26.041417296240006 1.2411468326515012e-07\n",
      "Kirshner_GSE87631_DE_OY.csv 9 0 8 27.758589013411726 0.0019356033191389036\n",
      "Kowalczyk_GSE59114_DE_OY.csv 44 6 37 13.935059601647016 7.739504789413861e-09\n",
      "Lazare_DE_YO.csv 45 1 43 51.97545648329124 4.322395162566108e-16\n",
      "Mann_GSE1004426_DE_OY.csv 34 1 32 47.75858901341172 1.0447637406150871e-11\n",
      "Maryanovich_GSE109546_DE_YO.csv 104 24 79 7.213134467957177 9.859476487904165e-14\n",
      "Norddahl_GSE27686_DE_YOn.csv 161 17 143 18.532782561798818 7.251002133897658e-34\n",
      "Sun_GSE47817_DE_YO.csv 109 58 50 1.9157209737473433 7.503189336186417e-05\n",
      "Wahlestedt_GSE44923_DE_YOn.csv 152 8 143 36.23960167163957 8.928402397851202e-43\n"
     ]
    }
   ],
   "source": [
    "\"run through all files and estimate scores\"\n",
    "print(\"file\", \"observed\",\"expected\",\"delta\",\"enrichment%\", \"fisher\",\"chisquare\", sep=\"\\t\")\n",
    "fis,chis,RScores,EnScores, deltas, set_len,shorts=[],[],[],[],[],[],[]#all fishers and chisquares series, rank scores and deltas\n",
    "for file in files:\n",
    "    f_in=open(mdir+ file,\"r\")\n",
    "    lines=f_in.readlines()\n",
    "    f_in.close()\n",
    "    names=[]\n",
    "    for line in lines[2:]:\n",
    "        items=line.rstrip().replace(\" \",\"\").split(\"\\t\")\n",
    "        item=items[1].split(\"///\") #choose column with names\n",
    "        names.append(item[0]) #use only the first out of many names\n",
    "    shortlist,scores=[],[] #gene indexes and scores\n",
    "    set_len.append(len(names))\n",
    "    #calculate rank score\n",
    "    for name in names:\n",
    "        if name in Genes:\n",
    "            shortlist.append(Genes.index(name))\n",
    "            scores.append(GeneScore[Genes.index(name)])\n",
    "          #  if file==\"signature_list_max.csv\":\n",
    "           #     print(\"max score list\", name, GeneScore[Genes.index(name)])\n",
    "        else:\n",
    "            scores.append(1) #unlisted genes go to the score 1\n",
    "         #   if file==\"signature_list_max.csv\":\n",
    "          #      print(name, \" not in the list\")\n",
    "    #print(\"list lengthes\", file, len(names), len(shortlist))\n",
    "    \"count rank score\" #add all scores if >1, subtract all scores==1\n",
    "    RankScore=0\n",
    "    for s in scores:\n",
    "        if s>1:\n",
    "            RankScore+=s\n",
    "        else:\n",
    "            RankScore -=s\n",
    "    RScores.append(RankScore) #needed for pin-plot\n",
    "    \"make cumulative curve\"\n",
    "    observed,expected,delta,fisher,chisquare=[],[],[],[],[]\n",
    "    for i in control_points:\n",
    "            found = [x for x in shortlist if x < i]\n",
    "            observe = (len(found))\n",
    "            observed.append(observe)\n",
    "            expect = len(shortlist) * i / len(Genes)\n",
    "            expected.append(expect)\n",
    "            delta.append(observe - expect)\n",
    "      #      f = ss.chisquare([observe, len(shortlist) - observe], f_exp=[expect, len(shortlist) - expect])\n",
    "       #     chisquare.append(f[1])\n",
    "            f = ss.fisher_exact([[expect, len(shortlist) - expect], [observe, len(shortlist) - observe]])\n",
    "            fisher.append(f[1])\n",
    "    shorts.append(shortlist)\n",
    "    EnScores.append(delta[7]*100/len(names)) #Enrichment scores at 5%\n",
    "    print(file, int(observed[7]),int(expected[7]),int(delta[7]),EnScores[-1],fisher[7])#,chisquare[7])\n",
    "    fis.append(fisher)\n",
    "    chis.append(chisquare)\n",
    "    deltas.append(delta)\n"
   ]
  },
  {
   "cell_type": "markdown",
   "metadata": {},
   "source": [
    "Both scores can be printed out for each set"
   ]
  },
  {
   "cell_type": "code",
   "execution_count": 32,
   "metadata": {},
   "outputs": [
    {
     "name": "stdout",
     "output_type": "stream",
     "text": [
      "Sets, gene_size,  RankScore, EnScore\n",
      "Beerman 457 184 18.921933059735267\n",
      "Chambers 3188 -97 6.574275404798401\n",
      "Flach 913 377 18.636726188886048\n",
      "Grover 60 189 60.982472811741104\n",
      "Kirshner 62 146 61.573870661203465\n",
      "Kowalczyk 77 224 59.83528666455496\n",
      "Noda 168 393 60.86342519269348\n",
      "Quere 204 203 27.84521790978032\n",
      "Rossi 805 784 28.881023536378784\n",
      "Sun 2634 686 14.319602652287804\n",
      "Wahlestedt 409 1021 63.42338560717713\n"
     ]
    }
   ],
   "source": [
    "print(\"Sets, gene_size,  RankScore, EnScore\")\n",
    "for i in range(len(files)):\n",
    "    print(setnames[i],set_len[i], RScores[i], EnScores[i])"
   ]
  },
  {
   "cell_type": "markdown",
   "metadata": {},
   "source": [
    "We can visualise Rank Scores for all sets as pin-plot (or other kind)"
   ]
  },
  {
   "cell_type": "code",
   "execution_count": 45,
   "metadata": {},
   "outputs": [
    {
     "data": {
      "text/plain": [
       "([], <a list of 0 Text yticklabel objects>)"
      ]
     },
     "execution_count": 45,
     "metadata": {},
     "output_type": "execute_result"
    },
    {
     "data": {
      "image/png": "[encoded data removed]",
      "text/plain": [
       "<Figure size 1080x360 with 1 Axes>"
      ]
     },
     "metadata": {
      "needs_background": "light"
     },
     "output_type": "display_data"
    }
   ],
   "source": [
    "\"make 1D pinplot for Rank scores\"\n",
    "data, scores,highs=fis,[],[]\n",
    "scores=RScores\n",
    "plt.figure(figsize=(15,5))\n",
    "for i in range(len(scores)):\n",
    "        height=5\n",
    "        plt.plot([scores[i], scores[i]], [0, height], c=\"red\", alpha=0.5)  # line\n",
    "        plt.text(scores[i], i/2, setnames[i])  # text\n",
    "        plt.scatter(scores[i], height, s=100, c=\"black\", alpha=1)  # dot\n",
    "plt.xlabel(\"Rank scores\")\n",
    "plt.yticks([],[])"
   ]
  },
  {
   "cell_type": "markdown",
   "metadata": {},
   "source": [
    "Similarly, we draw pin-plot for Enrichment scores"
   ]
  },
  {
   "cell_type": "code",
   "execution_count": 50,
   "metadata": {},
   "outputs": [
    {
     "data": {
      "text/plain": [
       "([], <a list of 0 Text yticklabel objects>)"
      ]
     },
     "execution_count": 50,
     "metadata": {},
     "output_type": "execute_result"
    },
    {
     "data": {
      "image/png": "[encoded data removed]",
      "text/plain": [
       "<Figure size 1080x360 with 1 Axes>"
      ]
     },
     "metadata": {
      "needs_background": "light"
     },
     "output_type": "display_data"
    }
   ],
   "source": [
    "\"pinplot for Enrichment scores\"\n",
    "data, scores,highs=fis,[],[]\n",
    "scores=EnScores\n",
    "plt.figure(figsize=(15,5))\n",
    "for i in range(len(scores)):\n",
    "        height = 10\n",
    "        plt.plot([scores[i],scores[i]], [0,height],c=\"black\", alpha=0.5) #line\n",
    "        plt.text(scores[i],height-i,setnames[i]) #text\n",
    "        plt.scatter(scores[i],height, s=100, c=\"red\",alpha=1) #dot\n",
    "plt.xlabel(\"Enrichment scores\")\n",
    "#figure can be saved by un-hashtag the line below\n",
    "#plt.savefig(file[:-4]+\".pdf\")\n",
    "plt.yticks([],[])"
   ]
  },
  {
   "cell_type": "code",
   "execution_count": null,
   "metadata": {},
   "outputs": [],
   "source": [
    "Enrichment plot can be plotted for any of the sets, let say for the 4th set. "
   ]
  },
  {
   "cell_type": "code",
   "execution_count": 52,
   "metadata": {},
   "outputs": [
    {
     "data": {
      "image/png": "[encoded data removed]",
      "text/plain": [
       "<Figure size 864x432 with 1 Axes>"
      ]
     },
     "metadata": {
      "needs_background": "light"
     },
     "output_type": "display_data"
    }
   ],
   "source": [
    "i=3 #the 4th set when counted from zero (this is how python counts)\n",
    "plt.figure(figsize=(12,6))\n",
    "\n",
    "\"the dGSE plot\"\n",
    "plt.title(setnames[i])\n",
    "plt.plot(control_points, deltas[i])\n",
    "plt.ylabel(\"Normalized enrichment, %\")\n",
    "#red ticks\n",
    "shortlist=shorts[i]\n",
    "for i in range(len(shortlist)):\n",
    "        x = [shortlist[i], shortlist[i]]\n",
    "        y = [0, -5]\n",
    "        plt.plot(x, y, c=\"red\")"
   ]
  },
  {
   "cell_type": "markdown",
   "metadata": {},
   "source": [
    "If you wonder what would be the Rank Score and Enrichment score for random subset of genes, look into another script, simulations."
   ]
  }
 ],
 "metadata": {
  "kernelspec": {
   "display_name": "Python 3",
   "language": "python",
   "name": "python3"
  },
  "language_info": {
   "codemirror_mode": {
    "name": "ipython",
    "version": 3
   },
   "file_extension": ".py",
   "mimetype": "text/x-python",
   "name": "python",
   "nbconvert_exporter": "python",
   "pygments_lexer": "ipython3",
   "version": "3.7.4"
  }
 },
 "nbformat": 4,
 "nbformat_minor": 2
}
